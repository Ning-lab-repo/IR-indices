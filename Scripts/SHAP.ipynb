{
 "cells": [
  {
   "cell_type": "code",
   "execution_count": null,
   "metadata": {},
   "outputs": [],
   "source": [
    "import pandas as pd\n",
    "import matplotlib.pyplot as plt\n",
    "from sklearn.model_selection import train_test_split\n",
    "from sklearn.ensemble import RandomForestClassifier\n",
    "import shap\n",
    "\n",
    "# Load the dataset\n",
    "tyg_shap = pd.read_csv(\"all_features.csv\", sep=\",\", encoding='GBK')\n",
    "\n",
    "# Define the groups you want to loop over\n",
    "groups = ['group_30', 'group_90', 'group_180', 'group_1y']\n",
    "\n",
    "# Prepare the feature matrix (X) by dropping unnecessary columns\n",
    "X = tyg_shap.drop(columns=['livetime', 'death'] + groups)\n",
    "\n",
    "# Loop through each group\n",
    "for group in groups:\n",
    "    print(f\"Processing {group}...\")\n",
    "\n",
    "    # Set the target variable (y) for the current group\n",
    "    y = tyg_shap[group]\n",
    "\n",
    "    # Split dataset into training (70%) and testing (30%) sets\n",
    "    X_train, X_test, y_train, y_test = train_test_split(X, y, test_size=0.3, random_state=1)\n",
    "\n",
    "    # Initialize the Random Forest Classifier with balanced class weights and limited max depth\n",
    "    rf = RandomForestClassifier(n_jobs=10, class_weight='balanced', max_depth=5)\n",
    "\n",
    "    # Train the Random Forest model\n",
    "    rf.fit(X_train, y_train)\n",
    "\n",
    "    # Use SHAP TreeExplainer to explain the predictions made by the Random Forest model\n",
    "    explainer = shap.Explainer(rf.predict, X_train)\n",
    "    shap_values = explainer.shap_values(X_test)\n",
    "\n",
    "    # Set the font family for the plot to Arial\n",
    "    plt.rcParams['font.family'] = 'Arial'\n",
    "\n",
    "    # Plot SHAP summary plot for the test set\n",
    "    plt.figure()\n",
    "    shap.summary_plot(shap_values, X_test, show=False)\n",
    "\n",
    "    # Save the SHAP plot as a PDF in the specified directory\n",
    "    output_filename = f'result/shap_{group}.pdf'\n",
    "    plt.savefig(output_filename, format='pdf')\n",
    "    plt.close()  # Close the plot to avoid memory issues in loops\n",
    "\n",
    "    print(f\"Saved SHAP plot for {group} as {output_filename}\")\n",
    "\n",
    "print(\"All groups processed.\")\n"
   ]
  }
 ],
 "metadata": {
  "language_info": {
   "name": "python"
  }
 },
 "nbformat": 4,
 "nbformat_minor": 2
}
